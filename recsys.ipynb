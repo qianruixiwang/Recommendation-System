{
 "cells": [
  {
   "cell_type": "markdown",
   "id": "12da4f37",
   "metadata": {},
   "source": [
    "# Recommendation System for Amazon CDs and Vinyls"
   ]
  },
  {
   "cell_type": "code",
   "execution_count": 5,
   "id": "df4b2ab5",
   "metadata": {},
   "outputs": [],
   "source": [
    "import pandas as pd"
   ]
  },
  {
   "cell_type": "code",
   "execution_count": 6,
   "id": "7cba62d9",
   "metadata": {},
   "outputs": [],
   "source": [
    "rating_path = 'Amazon_CDs_and_Vinyl/Amazon_CDs_and_Vinyl.inter'\n",
    "item_path = 'Amazon_CDs_and_Vinyl/Amazon_CDs_and_Vinyl.item'\n",
    "ratings = pd.read_csv(rating_path, sep='\\t', names=['user_id', 'item_id', 'rating', 'timestamp'], header=0)\n",
    "items = pd.read_csv(item_path, sep='\\t', names=['item_id', 'categories', 'average_rating', 'rating_number', 'price'], header=0)"
   ]
  },
  {
   "cell_type": "code",
   "execution_count": 7,
   "id": "60f35c19",
   "metadata": {},
   "outputs": [
    {
     "data": {
      "text/html": [
       "<div>\n",
       "<style scoped>\n",
       "    .dataframe tbody tr th:only-of-type {\n",
       "        vertical-align: middle;\n",
       "    }\n",
       "\n",
       "    .dataframe tbody tr th {\n",
       "        vertical-align: top;\n",
       "    }\n",
       "\n",
       "    .dataframe thead th {\n",
       "        text-align: right;\n",
       "    }\n",
       "</style>\n",
       "<table border=\"1\" class=\"dataframe\">\n",
       "  <thead>\n",
       "    <tr style=\"text-align: right;\">\n",
       "      <th></th>\n",
       "      <th>user_id</th>\n",
       "      <th>item_id</th>\n",
       "      <th>rating</th>\n",
       "      <th>timestamp</th>\n",
       "    </tr>\n",
       "  </thead>\n",
       "  <tbody>\n",
       "    <tr>\n",
       "      <th>0</th>\n",
       "      <td>AHQ6IJI7NLP7AXVWBXHEIETPA5MQ</td>\n",
       "      <td>B0014GFI9W</td>\n",
       "      <td>5.0</td>\n",
       "      <td>1241460688000</td>\n",
       "    </tr>\n",
       "    <tr>\n",
       "      <th>1</th>\n",
       "      <td>AHQ6IJI7NLP7AXVWBXHEIETPA5MQ</td>\n",
       "      <td>B00006LHW9</td>\n",
       "      <td>5.0</td>\n",
       "      <td>1246200134000</td>\n",
       "    </tr>\n",
       "    <tr>\n",
       "      <th>2</th>\n",
       "      <td>AHQ6IJI7NLP7AXVWBXHEIETPA5MQ</td>\n",
       "      <td>B005CP5O9K</td>\n",
       "      <td>5.0</td>\n",
       "      <td>1431018896000</td>\n",
       "    </tr>\n",
       "    <tr>\n",
       "      <th>3</th>\n",
       "      <td>AHQ6IJI7NLP7AXVWBXHEIETPA5MQ</td>\n",
       "      <td>B00116W23U</td>\n",
       "      <td>1.0</td>\n",
       "      <td>1457796304000</td>\n",
       "    </tr>\n",
       "    <tr>\n",
       "      <th>4</th>\n",
       "      <td>AHQ6IJI7NLP7AXVWBXHEIETPA5MQ</td>\n",
       "      <td>B001D25M9I</td>\n",
       "      <td>3.0</td>\n",
       "      <td>1457796558000</td>\n",
       "    </tr>\n",
       "  </tbody>\n",
       "</table>\n",
       "</div>"
      ],
      "text/plain": [
       "                        user_id     item_id  rating      timestamp\n",
       "0  AHQ6IJI7NLP7AXVWBXHEIETPA5MQ  B0014GFI9W     5.0  1241460688000\n",
       "1  AHQ6IJI7NLP7AXVWBXHEIETPA5MQ  B00006LHW9     5.0  1246200134000\n",
       "2  AHQ6IJI7NLP7AXVWBXHEIETPA5MQ  B005CP5O9K     5.0  1431018896000\n",
       "3  AHQ6IJI7NLP7AXVWBXHEIETPA5MQ  B00116W23U     1.0  1457796304000\n",
       "4  AHQ6IJI7NLP7AXVWBXHEIETPA5MQ  B001D25M9I     3.0  1457796558000"
      ]
     },
     "execution_count": 7,
     "metadata": {},
     "output_type": "execute_result"
    }
   ],
   "source": [
    "ratings.head()"
   ]
  },
  {
   "cell_type": "code",
   "execution_count": 8,
   "id": "e65e72be",
   "metadata": {},
   "outputs": [
    {
     "data": {
      "text/html": [
       "<div>\n",
       "<style scoped>\n",
       "    .dataframe tbody tr th:only-of-type {\n",
       "        vertical-align: middle;\n",
       "    }\n",
       "\n",
       "    .dataframe tbody tr th {\n",
       "        vertical-align: top;\n",
       "    }\n",
       "\n",
       "    .dataframe thead th {\n",
       "        text-align: right;\n",
       "    }\n",
       "</style>\n",
       "<table border=\"1\" class=\"dataframe\">\n",
       "  <thead>\n",
       "    <tr style=\"text-align: right;\">\n",
       "      <th></th>\n",
       "      <th>item_id</th>\n",
       "      <th>categories</th>\n",
       "      <th>average_rating</th>\n",
       "      <th>rating_number</th>\n",
       "      <th>price</th>\n",
       "    </tr>\n",
       "  </thead>\n",
       "  <tbody>\n",
       "    <tr>\n",
       "      <th>0</th>\n",
       "      <td>B000002X4C</td>\n",
       "      <td>CDs &amp; Vinyl,Dance &amp; Electronic,House</td>\n",
       "      <td>4.6</td>\n",
       "      <td>112</td>\n",
       "      <td>12.05</td>\n",
       "    </tr>\n",
       "    <tr>\n",
       "      <th>1</th>\n",
       "      <td>B00902T10Y</td>\n",
       "      <td>CDs &amp; Vinyl,Jazz,Avant Garde &amp; Free Jazz</td>\n",
       "      <td>5.0</td>\n",
       "      <td>1</td>\n",
       "      <td>14.98</td>\n",
       "    </tr>\n",
       "    <tr>\n",
       "      <th>2</th>\n",
       "      <td>B00000DALY</td>\n",
       "      <td>CDs &amp; Vinyl,Rap &amp; Hip-Hop,Gangsta &amp; Hardcore</td>\n",
       "      <td>5.0</td>\n",
       "      <td>9</td>\n",
       "      <td>24.99</td>\n",
       "    </tr>\n",
       "    <tr>\n",
       "      <th>3</th>\n",
       "      <td>B0000086D1</td>\n",
       "      <td>CDs &amp; Vinyl,Soundtracks,Movie Scores</td>\n",
       "      <td>4.8</td>\n",
       "      <td>1186</td>\n",
       "      <td>11.55</td>\n",
       "    </tr>\n",
       "    <tr>\n",
       "      <th>4</th>\n",
       "      <td>B000S6W7KC</td>\n",
       "      <td>CDs &amp; Vinyl,Folk</td>\n",
       "      <td>5.0</td>\n",
       "      <td>1</td>\n",
       "      <td>14.07</td>\n",
       "    </tr>\n",
       "  </tbody>\n",
       "</table>\n",
       "</div>"
      ],
      "text/plain": [
       "      item_id                                    categories  average_rating  \\\n",
       "0  B000002X4C          CDs & Vinyl,Dance & Electronic,House             4.6   \n",
       "1  B00902T10Y      CDs & Vinyl,Jazz,Avant Garde & Free Jazz             5.0   \n",
       "2  B00000DALY  CDs & Vinyl,Rap & Hip-Hop,Gangsta & Hardcore             5.0   \n",
       "3  B0000086D1          CDs & Vinyl,Soundtracks,Movie Scores             4.8   \n",
       "4  B000S6W7KC                              CDs & Vinyl,Folk             5.0   \n",
       "\n",
       "   rating_number  price  \n",
       "0            112  12.05  \n",
       "1              1  14.98  \n",
       "2              9  24.99  \n",
       "3           1186  11.55  \n",
       "4              1  14.07  "
      ]
     },
     "execution_count": 8,
     "metadata": {},
     "output_type": "execute_result"
    }
   ],
   "source": [
    "items.head()"
   ]
  }
 ],
 "metadata": {
  "kernelspec": {
   "display_name": "base",
   "language": "python",
   "name": "python3"
  },
  "language_info": {
   "codemirror_mode": {
    "name": "ipython",
    "version": 3
   },
   "file_extension": ".py",
   "mimetype": "text/x-python",
   "name": "python",
   "nbconvert_exporter": "python",
   "pygments_lexer": "ipython3",
   "version": "3.12.9"
  }
 },
 "nbformat": 4,
 "nbformat_minor": 5
}
